{
 "cells": [
  {
   "cell_type": "code",
   "execution_count": 2,
   "metadata": {
    "_cell_guid": "b1076dfc-b9ad-4769-8c92-a6c4dae69d19",
    "_uuid": "8f2839f25d086af736a60e9eeb907d3b93b6e0e5",
    "execution": {
     "iopub.execute_input": "2022-09-13T13:51:47.816351Z",
     "iopub.status.busy": "2022-09-13T13:51:47.816023Z",
     "iopub.status.idle": "2022-09-13T13:51:47.946264Z",
     "shell.execute_reply": "2022-09-13T13:51:47.945303Z",
     "shell.execute_reply.started": "2022-09-13T13:51:47.816318Z"
    }
   },
   "outputs": [
    {
     "name": "stdout",
     "output_type": "stream",
     "text": [
      "/kaggle/input/tpu-getting-started/sample_submission.csv\n",
      "/kaggle/input/tpu-getting-started/tfrecords-jpeg-224x224/val/09-224x224-232.tfrec\n",
      "/kaggle/input/tpu-getting-started/tfrecords-jpeg-224x224/val/14-224x224-232.tfrec\n",
      "/kaggle/input/tpu-getting-started/tfrecords-jpeg-224x224/val/01-224x224-232.tfrec\n",
      "/kaggle/input/tpu-getting-started/tfrecords-jpeg-224x224/val/13-224x224-232.tfrec\n",
      "/kaggle/input/tpu-getting-started/tfrecords-jpeg-224x224/val/00-224x224-232.tfrec\n",
      "/kaggle/input/tpu-getting-started/tfrecords-jpeg-224x224/val/07-224x224-232.tfrec\n",
      "/kaggle/input/tpu-getting-started/tfrecords-jpeg-224x224/val/12-224x224-232.tfrec\n",
      "/kaggle/input/tpu-getting-started/tfrecords-jpeg-224x224/val/11-224x224-232.tfrec\n",
      "/kaggle/input/tpu-getting-started/tfrecords-jpeg-224x224/val/05-224x224-232.tfrec\n",
      "/kaggle/input/tpu-getting-started/tfrecords-jpeg-224x224/val/04-224x224-232.tfrec\n",
      "/kaggle/input/tpu-getting-started/tfrecords-jpeg-224x224/val/15-224x224-232.tfrec\n",
      "/kaggle/input/tpu-getting-started/tfrecords-jpeg-224x224/val/06-224x224-232.tfrec\n",
      "/kaggle/input/tpu-getting-started/tfrecords-jpeg-224x224/val/02-224x224-232.tfrec\n",
      "/kaggle/input/tpu-getting-started/tfrecords-jpeg-224x224/val/03-224x224-232.tfrec\n",
      "/kaggle/input/tpu-getting-started/tfrecords-jpeg-224x224/val/08-224x224-232.tfrec\n",
      "/kaggle/input/tpu-getting-started/tfrecords-jpeg-224x224/val/10-224x224-232.tfrec\n",
      "/kaggle/input/tpu-getting-started/tfrecords-jpeg-224x224/test/04-224x224-462.tfrec\n",
      "/kaggle/input/tpu-getting-started/tfrecords-jpeg-224x224/test/06-224x224-462.tfrec\n",
      "/kaggle/input/tpu-getting-started/tfrecords-jpeg-224x224/test/05-224x224-462.tfrec\n",
      "/kaggle/input/tpu-getting-started/tfrecords-jpeg-224x224/test/08-224x224-462.tfrec\n",
      "/kaggle/input/tpu-getting-started/tfrecords-jpeg-224x224/test/15-224x224-452.tfrec\n",
      "/kaggle/input/tpu-getting-started/tfrecords-jpeg-224x224/test/09-224x224-462.tfrec\n",
      "/kaggle/input/tpu-getting-started/tfrecords-jpeg-224x224/test/10-224x224-462.tfrec\n",
      "/kaggle/input/tpu-getting-started/tfrecords-jpeg-224x224/test/07-224x224-462.tfrec\n",
      "/kaggle/input/tpu-getting-started/tfrecords-jpeg-224x224/test/00-224x224-462.tfrec\n",
      "/kaggle/input/tpu-getting-started/tfrecords-jpeg-224x224/test/01-224x224-462.tfrec\n",
      "/kaggle/input/tpu-getting-started/tfrecords-jpeg-224x224/test/12-224x224-462.tfrec\n",
      "/kaggle/input/tpu-getting-started/tfrecords-jpeg-224x224/test/14-224x224-462.tfrec\n",
      "/kaggle/input/tpu-getting-started/tfrecords-jpeg-224x224/test/03-224x224-462.tfrec\n",
      "/kaggle/input/tpu-getting-started/tfrecords-jpeg-224x224/test/02-224x224-462.tfrec\n",
      "/kaggle/input/tpu-getting-started/tfrecords-jpeg-224x224/test/11-224x224-462.tfrec\n",
      "/kaggle/input/tpu-getting-started/tfrecords-jpeg-224x224/test/13-224x224-462.tfrec\n",
      "/kaggle/input/tpu-getting-started/tfrecords-jpeg-224x224/train/13-224x224-798.tfrec\n",
      "/kaggle/input/tpu-getting-started/tfrecords-jpeg-224x224/train/11-224x224-798.tfrec\n",
      "/kaggle/input/tpu-getting-started/tfrecords-jpeg-224x224/train/05-224x224-798.tfrec\n",
      "/kaggle/input/tpu-getting-started/tfrecords-jpeg-224x224/train/00-224x224-798.tfrec\n",
      "/kaggle/input/tpu-getting-started/tfrecords-jpeg-224x224/train/02-224x224-798.tfrec\n",
      "/kaggle/input/tpu-getting-started/tfrecords-jpeg-224x224/train/14-224x224-798.tfrec\n",
      "/kaggle/input/tpu-getting-started/tfrecords-jpeg-224x224/train/06-224x224-798.tfrec\n",
      "/kaggle/input/tpu-getting-started/tfrecords-jpeg-224x224/train/10-224x224-798.tfrec\n",
      "/kaggle/input/tpu-getting-started/tfrecords-jpeg-224x224/train/01-224x224-798.tfrec\n",
      "/kaggle/input/tpu-getting-started/tfrecords-jpeg-224x224/train/03-224x224-798.tfrec\n",
      "/kaggle/input/tpu-getting-started/tfrecords-jpeg-224x224/train/08-224x224-798.tfrec\n",
      "/kaggle/input/tpu-getting-started/tfrecords-jpeg-224x224/train/09-224x224-798.tfrec\n",
      "/kaggle/input/tpu-getting-started/tfrecords-jpeg-224x224/train/15-224x224-783.tfrec\n",
      "/kaggle/input/tpu-getting-started/tfrecords-jpeg-224x224/train/07-224x224-798.tfrec\n",
      "/kaggle/input/tpu-getting-started/tfrecords-jpeg-224x224/train/04-224x224-798.tfrec\n",
      "/kaggle/input/tpu-getting-started/tfrecords-jpeg-224x224/train/12-224x224-798.tfrec\n",
      "/kaggle/input/tpu-getting-started/tfrecords-jpeg-331x331/val/05-331x331-232.tfrec\n",
      "/kaggle/input/tpu-getting-started/tfrecords-jpeg-331x331/val/08-331x331-232.tfrec\n",
      "/kaggle/input/tpu-getting-started/tfrecords-jpeg-331x331/val/01-331x331-232.tfrec\n",
      "/kaggle/input/tpu-getting-started/tfrecords-jpeg-331x331/val/03-331x331-232.tfrec\n",
      "/kaggle/input/tpu-getting-started/tfrecords-jpeg-331x331/val/13-331x331-232.tfrec\n",
      "/kaggle/input/tpu-getting-started/tfrecords-jpeg-331x331/val/10-331x331-232.tfrec\n",
      "/kaggle/input/tpu-getting-started/tfrecords-jpeg-331x331/val/07-331x331-232.tfrec\n",
      "/kaggle/input/tpu-getting-started/tfrecords-jpeg-331x331/val/04-331x331-232.tfrec\n",
      "/kaggle/input/tpu-getting-started/tfrecords-jpeg-331x331/val/14-331x331-232.tfrec\n",
      "/kaggle/input/tpu-getting-started/tfrecords-jpeg-331x331/val/15-331x331-232.tfrec\n",
      "/kaggle/input/tpu-getting-started/tfrecords-jpeg-331x331/val/12-331x331-232.tfrec\n",
      "/kaggle/input/tpu-getting-started/tfrecords-jpeg-331x331/val/11-331x331-232.tfrec\n",
      "/kaggle/input/tpu-getting-started/tfrecords-jpeg-331x331/val/02-331x331-232.tfrec\n",
      "/kaggle/input/tpu-getting-started/tfrecords-jpeg-331x331/val/00-331x331-232.tfrec\n",
      "/kaggle/input/tpu-getting-started/tfrecords-jpeg-331x331/val/06-331x331-232.tfrec\n",
      "/kaggle/input/tpu-getting-started/tfrecords-jpeg-331x331/val/09-331x331-232.tfrec\n",
      "/kaggle/input/tpu-getting-started/tfrecords-jpeg-331x331/test/14-331x331-462.tfrec\n",
      "/kaggle/input/tpu-getting-started/tfrecords-jpeg-331x331/test/13-331x331-462.tfrec\n",
      "/kaggle/input/tpu-getting-started/tfrecords-jpeg-331x331/test/03-331x331-462.tfrec\n",
      "/kaggle/input/tpu-getting-started/tfrecords-jpeg-331x331/test/05-331x331-462.tfrec\n",
      "/kaggle/input/tpu-getting-started/tfrecords-jpeg-331x331/test/09-331x331-462.tfrec\n",
      "/kaggle/input/tpu-getting-started/tfrecords-jpeg-331x331/test/04-331x331-462.tfrec\n",
      "/kaggle/input/tpu-getting-started/tfrecords-jpeg-331x331/test/01-331x331-462.tfrec\n",
      "/kaggle/input/tpu-getting-started/tfrecords-jpeg-331x331/test/11-331x331-462.tfrec\n",
      "/kaggle/input/tpu-getting-started/tfrecords-jpeg-331x331/test/07-331x331-462.tfrec\n",
      "/kaggle/input/tpu-getting-started/tfrecords-jpeg-331x331/test/08-331x331-462.tfrec\n",
      "/kaggle/input/tpu-getting-started/tfrecords-jpeg-331x331/test/00-331x331-462.tfrec\n",
      "/kaggle/input/tpu-getting-started/tfrecords-jpeg-331x331/test/02-331x331-462.tfrec\n",
      "/kaggle/input/tpu-getting-started/tfrecords-jpeg-331x331/test/15-331x331-452.tfrec\n",
      "/kaggle/input/tpu-getting-started/tfrecords-jpeg-331x331/test/10-331x331-462.tfrec\n",
      "/kaggle/input/tpu-getting-started/tfrecords-jpeg-331x331/test/12-331x331-462.tfrec\n",
      "/kaggle/input/tpu-getting-started/tfrecords-jpeg-331x331/test/06-331x331-462.tfrec\n",
      "/kaggle/input/tpu-getting-started/tfrecords-jpeg-331x331/train/15-331x331-783.tfrec\n",
      "/kaggle/input/tpu-getting-started/tfrecords-jpeg-331x331/train/02-331x331-798.tfrec\n",
      "/kaggle/input/tpu-getting-started/tfrecords-jpeg-331x331/train/14-331x331-798.tfrec\n",
      "/kaggle/input/tpu-getting-started/tfrecords-jpeg-331x331/train/04-331x331-798.tfrec\n",
      "/kaggle/input/tpu-getting-started/tfrecords-jpeg-331x331/train/08-331x331-798.tfrec\n",
      "/kaggle/input/tpu-getting-started/tfrecords-jpeg-331x331/train/12-331x331-798.tfrec\n",
      "/kaggle/input/tpu-getting-started/tfrecords-jpeg-331x331/train/03-331x331-798.tfrec\n",
      "/kaggle/input/tpu-getting-started/tfrecords-jpeg-331x331/train/05-331x331-798.tfrec\n",
      "/kaggle/input/tpu-getting-started/tfrecords-jpeg-331x331/train/00-331x331-798.tfrec\n",
      "/kaggle/input/tpu-getting-started/tfrecords-jpeg-331x331/train/06-331x331-798.tfrec\n",
      "/kaggle/input/tpu-getting-started/tfrecords-jpeg-331x331/train/07-331x331-798.tfrec\n",
      "/kaggle/input/tpu-getting-started/tfrecords-jpeg-331x331/train/09-331x331-798.tfrec\n",
      "/kaggle/input/tpu-getting-started/tfrecords-jpeg-331x331/train/10-331x331-798.tfrec\n",
      "/kaggle/input/tpu-getting-started/tfrecords-jpeg-331x331/train/01-331x331-798.tfrec\n",
      "/kaggle/input/tpu-getting-started/tfrecords-jpeg-331x331/train/13-331x331-798.tfrec\n",
      "/kaggle/input/tpu-getting-started/tfrecords-jpeg-331x331/train/11-331x331-798.tfrec\n",
      "/kaggle/input/tpu-getting-started/tfrecords-jpeg-192x192/val/05-192x192-232.tfrec\n",
      "/kaggle/input/tpu-getting-started/tfrecords-jpeg-192x192/val/07-192x192-232.tfrec\n",
      "/kaggle/input/tpu-getting-started/tfrecords-jpeg-192x192/val/15-192x192-232.tfrec\n",
      "/kaggle/input/tpu-getting-started/tfrecords-jpeg-192x192/val/08-192x192-232.tfrec\n",
      "/kaggle/input/tpu-getting-started/tfrecords-jpeg-192x192/val/06-192x192-232.tfrec\n",
      "/kaggle/input/tpu-getting-started/tfrecords-jpeg-192x192/val/00-192x192-232.tfrec\n",
      "/kaggle/input/tpu-getting-started/tfrecords-jpeg-192x192/val/11-192x192-232.tfrec\n",
      "/kaggle/input/tpu-getting-started/tfrecords-jpeg-192x192/val/04-192x192-232.tfrec\n",
      "/kaggle/input/tpu-getting-started/tfrecords-jpeg-192x192/val/09-192x192-232.tfrec\n",
      "/kaggle/input/tpu-getting-started/tfrecords-jpeg-192x192/val/02-192x192-232.tfrec\n",
      "/kaggle/input/tpu-getting-started/tfrecords-jpeg-192x192/val/10-192x192-232.tfrec\n",
      "/kaggle/input/tpu-getting-started/tfrecords-jpeg-192x192/val/12-192x192-232.tfrec\n",
      "/kaggle/input/tpu-getting-started/tfrecords-jpeg-192x192/val/14-192x192-232.tfrec\n",
      "/kaggle/input/tpu-getting-started/tfrecords-jpeg-192x192/val/13-192x192-232.tfrec\n",
      "/kaggle/input/tpu-getting-started/tfrecords-jpeg-192x192/val/03-192x192-232.tfrec\n",
      "/kaggle/input/tpu-getting-started/tfrecords-jpeg-192x192/val/01-192x192-232.tfrec\n",
      "/kaggle/input/tpu-getting-started/tfrecords-jpeg-192x192/test/06-192x192-462.tfrec\n",
      "/kaggle/input/tpu-getting-started/tfrecords-jpeg-192x192/test/12-192x192-462.tfrec\n",
      "/kaggle/input/tpu-getting-started/tfrecords-jpeg-192x192/test/08-192x192-462.tfrec\n",
      "/kaggle/input/tpu-getting-started/tfrecords-jpeg-192x192/test/07-192x192-462.tfrec\n",
      "/kaggle/input/tpu-getting-started/tfrecords-jpeg-192x192/test/00-192x192-462.tfrec\n",
      "/kaggle/input/tpu-getting-started/tfrecords-jpeg-192x192/test/03-192x192-462.tfrec\n",
      "/kaggle/input/tpu-getting-started/tfrecords-jpeg-192x192/test/13-192x192-462.tfrec\n",
      "/kaggle/input/tpu-getting-started/tfrecords-jpeg-192x192/test/05-192x192-462.tfrec\n",
      "/kaggle/input/tpu-getting-started/tfrecords-jpeg-192x192/test/01-192x192-462.tfrec\n",
      "/kaggle/input/tpu-getting-started/tfrecords-jpeg-192x192/test/14-192x192-462.tfrec\n",
      "/kaggle/input/tpu-getting-started/tfrecords-jpeg-192x192/test/10-192x192-462.tfrec\n",
      "/kaggle/input/tpu-getting-started/tfrecords-jpeg-192x192/test/04-192x192-462.tfrec\n",
      "/kaggle/input/tpu-getting-started/tfrecords-jpeg-192x192/test/15-192x192-452.tfrec\n",
      "/kaggle/input/tpu-getting-started/tfrecords-jpeg-192x192/test/09-192x192-462.tfrec\n",
      "/kaggle/input/tpu-getting-started/tfrecords-jpeg-192x192/test/11-192x192-462.tfrec\n",
      "/kaggle/input/tpu-getting-started/tfrecords-jpeg-192x192/test/02-192x192-462.tfrec\n",
      "/kaggle/input/tpu-getting-started/tfrecords-jpeg-192x192/train/06-192x192-798.tfrec\n",
      "/kaggle/input/tpu-getting-started/tfrecords-jpeg-192x192/train/11-192x192-798.tfrec\n",
      "/kaggle/input/tpu-getting-started/tfrecords-jpeg-192x192/train/12-192x192-798.tfrec\n",
      "/kaggle/input/tpu-getting-started/tfrecords-jpeg-192x192/train/03-192x192-798.tfrec\n",
      "/kaggle/input/tpu-getting-started/tfrecords-jpeg-192x192/train/09-192x192-798.tfrec\n",
      "/kaggle/input/tpu-getting-started/tfrecords-jpeg-192x192/train/08-192x192-798.tfrec\n",
      "/kaggle/input/tpu-getting-started/tfrecords-jpeg-192x192/train/04-192x192-798.tfrec\n",
      "/kaggle/input/tpu-getting-started/tfrecords-jpeg-192x192/train/05-192x192-798.tfrec\n",
      "/kaggle/input/tpu-getting-started/tfrecords-jpeg-192x192/train/14-192x192-798.tfrec\n",
      "/kaggle/input/tpu-getting-started/tfrecords-jpeg-192x192/train/07-192x192-798.tfrec\n",
      "/kaggle/input/tpu-getting-started/tfrecords-jpeg-192x192/train/13-192x192-798.tfrec\n",
      "/kaggle/input/tpu-getting-started/tfrecords-jpeg-192x192/train/15-192x192-783.tfrec\n",
      "/kaggle/input/tpu-getting-started/tfrecords-jpeg-192x192/train/02-192x192-798.tfrec\n",
      "/kaggle/input/tpu-getting-started/tfrecords-jpeg-192x192/train/10-192x192-798.tfrec\n",
      "/kaggle/input/tpu-getting-started/tfrecords-jpeg-192x192/train/01-192x192-798.tfrec\n",
      "/kaggle/input/tpu-getting-started/tfrecords-jpeg-192x192/train/00-192x192-798.tfrec\n",
      "/kaggle/input/tpu-getting-started/tfrecords-jpeg-512x512/val/02-512x512-232.tfrec\n",
      "/kaggle/input/tpu-getting-started/tfrecords-jpeg-512x512/val/12-512x512-232.tfrec\n",
      "/kaggle/input/tpu-getting-started/tfrecords-jpeg-512x512/val/09-512x512-232.tfrec\n",
      "/kaggle/input/tpu-getting-started/tfrecords-jpeg-512x512/val/00-512x512-232.tfrec\n",
      "/kaggle/input/tpu-getting-started/tfrecords-jpeg-512x512/val/13-512x512-232.tfrec\n",
      "/kaggle/input/tpu-getting-started/tfrecords-jpeg-512x512/val/03-512x512-232.tfrec\n",
      "/kaggle/input/tpu-getting-started/tfrecords-jpeg-512x512/val/14-512x512-232.tfrec\n",
      "/kaggle/input/tpu-getting-started/tfrecords-jpeg-512x512/val/04-512x512-232.tfrec\n",
      "/kaggle/input/tpu-getting-started/tfrecords-jpeg-512x512/val/10-512x512-232.tfrec\n",
      "/kaggle/input/tpu-getting-started/tfrecords-jpeg-512x512/val/05-512x512-232.tfrec\n",
      "/kaggle/input/tpu-getting-started/tfrecords-jpeg-512x512/val/08-512x512-232.tfrec\n",
      "/kaggle/input/tpu-getting-started/tfrecords-jpeg-512x512/val/11-512x512-232.tfrec\n",
      "/kaggle/input/tpu-getting-started/tfrecords-jpeg-512x512/val/07-512x512-232.tfrec\n",
      "/kaggle/input/tpu-getting-started/tfrecords-jpeg-512x512/val/15-512x512-232.tfrec\n",
      "/kaggle/input/tpu-getting-started/tfrecords-jpeg-512x512/val/01-512x512-232.tfrec\n",
      "/kaggle/input/tpu-getting-started/tfrecords-jpeg-512x512/val/06-512x512-232.tfrec\n",
      "/kaggle/input/tpu-getting-started/tfrecords-jpeg-512x512/test/15-512x512-452.tfrec\n",
      "/kaggle/input/tpu-getting-started/tfrecords-jpeg-512x512/test/02-512x512-462.tfrec\n",
      "/kaggle/input/tpu-getting-started/tfrecords-jpeg-512x512/test/03-512x512-462.tfrec\n",
      "/kaggle/input/tpu-getting-started/tfrecords-jpeg-512x512/test/01-512x512-462.tfrec\n",
      "/kaggle/input/tpu-getting-started/tfrecords-jpeg-512x512/test/00-512x512-462.tfrec\n",
      "/kaggle/input/tpu-getting-started/tfrecords-jpeg-512x512/test/13-512x512-462.tfrec\n",
      "/kaggle/input/tpu-getting-started/tfrecords-jpeg-512x512/test/07-512x512-462.tfrec\n",
      "/kaggle/input/tpu-getting-started/tfrecords-jpeg-512x512/test/10-512x512-462.tfrec\n",
      "/kaggle/input/tpu-getting-started/tfrecords-jpeg-512x512/test/04-512x512-462.tfrec\n",
      "/kaggle/input/tpu-getting-started/tfrecords-jpeg-512x512/test/14-512x512-462.tfrec\n",
      "/kaggle/input/tpu-getting-started/tfrecords-jpeg-512x512/test/09-512x512-462.tfrec\n",
      "/kaggle/input/tpu-getting-started/tfrecords-jpeg-512x512/test/08-512x512-462.tfrec\n",
      "/kaggle/input/tpu-getting-started/tfrecords-jpeg-512x512/test/11-512x512-462.tfrec\n",
      "/kaggle/input/tpu-getting-started/tfrecords-jpeg-512x512/test/05-512x512-462.tfrec\n",
      "/kaggle/input/tpu-getting-started/tfrecords-jpeg-512x512/test/06-512x512-462.tfrec\n",
      "/kaggle/input/tpu-getting-started/tfrecords-jpeg-512x512/test/12-512x512-462.tfrec\n",
      "/kaggle/input/tpu-getting-started/tfrecords-jpeg-512x512/train/05-512x512-798.tfrec\n",
      "/kaggle/input/tpu-getting-started/tfrecords-jpeg-512x512/train/00-512x512-798.tfrec\n",
      "/kaggle/input/tpu-getting-started/tfrecords-jpeg-512x512/train/11-512x512-798.tfrec\n",
      "/kaggle/input/tpu-getting-started/tfrecords-jpeg-512x512/train/15-512x512-783.tfrec\n",
      "/kaggle/input/tpu-getting-started/tfrecords-jpeg-512x512/train/10-512x512-798.tfrec\n",
      "/kaggle/input/tpu-getting-started/tfrecords-jpeg-512x512/train/12-512x512-798.tfrec\n",
      "/kaggle/input/tpu-getting-started/tfrecords-jpeg-512x512/train/01-512x512-798.tfrec\n",
      "/kaggle/input/tpu-getting-started/tfrecords-jpeg-512x512/train/14-512x512-798.tfrec\n",
      "/kaggle/input/tpu-getting-started/tfrecords-jpeg-512x512/train/13-512x512-798.tfrec\n",
      "/kaggle/input/tpu-getting-started/tfrecords-jpeg-512x512/train/07-512x512-798.tfrec\n",
      "/kaggle/input/tpu-getting-started/tfrecords-jpeg-512x512/train/03-512x512-798.tfrec\n",
      "/kaggle/input/tpu-getting-started/tfrecords-jpeg-512x512/train/06-512x512-798.tfrec\n",
      "/kaggle/input/tpu-getting-started/tfrecords-jpeg-512x512/train/08-512x512-798.tfrec\n",
      "/kaggle/input/tpu-getting-started/tfrecords-jpeg-512x512/train/02-512x512-798.tfrec\n",
      "/kaggle/input/tpu-getting-started/tfrecords-jpeg-512x512/train/09-512x512-798.tfrec\n",
      "/kaggle/input/tpu-getting-started/tfrecords-jpeg-512x512/train/04-512x512-798.tfrec\n"
     ]
    }
   ],
   "source": [
    "import numpy as np \n",
    "import pandas as pd \n",
    "\n",
    "import os\n",
    "for dirname, _, filenames in os.walk('/kaggle/input'):\n",
    "    for filename in filenames:\n",
    "        print(os.path.join(dirname, filename))\n"
   ]
  },
  {
   "cell_type": "code",
   "execution_count": 10,
   "metadata": {
    "execution": {
     "iopub.execute_input": "2022-09-13T13:55:26.596166Z",
     "iopub.status.busy": "2022-09-13T13:55:26.595510Z",
     "iopub.status.idle": "2022-09-13T13:55:26.602328Z",
     "shell.execute_reply": "2022-09-13T13:55:26.601681Z",
     "shell.execute_reply.started": "2022-09-13T13:55:26.596121Z"
    }
   },
   "outputs": [],
   "source": [
    "# basic libraries \n",
    "import os, re, math \n",
    "import numpy as np \n",
    "import pandas as pd \n",
    "import tensorflow as tf\n",
    "import seaborn as sns\n",
    "import matplotlib.pyplot as plt\n",
    "\n",
    "# libraries for model \n",
    "from tensorflow.keras import optimizers, layers, models, utils\n",
    "from tensorflow.keras.models import Sequential\n",
    "from tensorflow.keras.layers import Dense, Conv2D, MaxPooling2D, Flatten, Dropout, Activation\n",
    "from sklearn.metrics import confusion_matrix, classification_report, accuracy_score, precision_score, recall_score, f1_score\n",
    "from sklearn.model_selection import train_test_split"
   ]
  },
  {
   "cell_type": "code",
   "execution_count": 4,
   "metadata": {
    "execution": {
     "iopub.execute_input": "2022-09-13T13:51:55.870327Z",
     "iopub.status.busy": "2022-09-13T13:51:55.870002Z",
     "iopub.status.idle": "2022-09-13T13:51:55.876997Z",
     "shell.execute_reply": "2022-09-13T13:51:55.876004Z",
     "shell.execute_reply.started": "2022-09-13T13:51:55.870285Z"
    }
   },
   "outputs": [
    {
     "name": "stdout",
     "output_type": "stream",
     "text": [
      "Tensorflow version 2.4.1\n"
     ]
    }
   ],
   "source": [
    "# finding the version of tf\n",
    "import tensorflow as tf\n",
    "print('Tensorflow version ' + tf.__version__)"
   ]
  },
  {
   "cell_type": "code",
   "execution_count": 5,
   "metadata": {
    "execution": {
     "iopub.execute_input": "2022-09-13T13:51:55.879781Z",
     "iopub.status.busy": "2022-09-13T13:51:55.879343Z",
     "iopub.status.idle": "2022-09-13T13:52:02.051003Z",
     "shell.execute_reply": "2022-09-13T13:52:02.050027Z",
     "shell.execute_reply.started": "2022-09-13T13:51:55.879737Z"
    }
   },
   "outputs": [
    {
     "name": "stdout",
     "output_type": "stream",
     "text": [
      "Device: grpc://10.0.0.2:8470\n"
     ]
    },
    {
     "name": "stderr",
     "output_type": "stream",
     "text": [
      "2022-09-13 13:51:55.893542: I tensorflow/compiler/jit/xla_cpu_device.cc:41] Not creating XLA devices, tf_xla_enable_xla_devices not set\n",
      "2022-09-13 13:51:55.897349: W tensorflow/stream_executor/platform/default/dso_loader.cc:60] Could not load dynamic library 'libcuda.so.1'; dlerror: libcuda.so.1: cannot open shared object file: No such file or directory; LD_LIBRARY_PATH: /opt/conda/lib\n",
      "2022-09-13 13:51:55.897392: W tensorflow/stream_executor/cuda/cuda_driver.cc:326] failed call to cuInit: UNKNOWN ERROR (303)\n",
      "2022-09-13 13:51:55.897421: I tensorflow/stream_executor/cuda/cuda_diagnostics.cc:156] kernel driver does not appear to be running on this host (bee70723bdac): /proc/driver/nvidia/version does not exist\n",
      "2022-09-13 13:51:55.902375: I tensorflow/core/platform/cpu_feature_guard.cc:142] This TensorFlow binary is optimized with oneAPI Deep Neural Network Library (oneDNN) to use the following CPU instructions in performance-critical operations:  AVX2 FMA\n",
      "To enable them in other operations, rebuild TensorFlow with the appropriate compiler flags.\n",
      "2022-09-13 13:51:55.903961: I tensorflow/compiler/jit/xla_gpu_device.cc:99] Not creating XLA devices, tf_xla_enable_xla_devices not set\n",
      "2022-09-13 13:51:55.942808: I tensorflow/core/distributed_runtime/rpc/grpc_channel.cc:301] Initialize GrpcChannelCache for job worker -> {0 -> 10.0.0.2:8470}\n",
      "2022-09-13 13:51:55.943013: I tensorflow/core/distributed_runtime/rpc/grpc_channel.cc:301] Initialize GrpcChannelCache for job localhost -> {0 -> localhost:30020}\n",
      "2022-09-13 13:51:55.961971: I tensorflow/core/distributed_runtime/rpc/grpc_channel.cc:301] Initialize GrpcChannelCache for job worker -> {0 -> 10.0.0.2:8470}\n",
      "2022-09-13 13:51:55.962031: I tensorflow/core/distributed_runtime/rpc/grpc_channel.cc:301] Initialize GrpcChannelCache for job localhost -> {0 -> localhost:30020}\n",
      "2022-09-13 13:51:55.963693: I tensorflow/core/distributed_runtime/rpc/grpc_server_lib.cc:411] Started server with target: grpc://localhost:30020\n"
     ]
    },
    {
     "name": "stdout",
     "output_type": "stream",
     "text": [
      "Number of accelerators/replicas: 8\n"
     ]
    }
   ],
   "source": [
    "# Setup TPU/detect TPU, return appropriate distribution strategy\n",
    "try:\n",
    "    tpu = tf.distribute.cluster_resolver.TPUClusterResolver()\n",
    "    print('Device:', tpu.master())\n",
    "    tf.config.experimental_connect_to_cluster(tpu)\n",
    "    tf.tpu.experimental.initialize_tpu_system(tpu)\n",
    "    strategy = tf.distribute.TPUStrategy(tpu)\n",
    "except:\n",
    "    strategy = tf.distribute.get_strategy()\n",
    "print('Number of accelerators/replicas:', strategy.num_replicas_in_sync)\n"
   ]
  },
  {
   "cell_type": "markdown",
   "metadata": {},
   "source": [
    "Loading the dataset from kaggle\n",
    "When used with TPUs, datasets need to be stored in a Google Cloud Storage bucket.\n",
    "You can use data from any public GCS bucket by giving its path just like you would data from '/kaggle/input'.\n",
    "The following will retrieve the GCS path for this competition's dataset."
   ]
  },
  {
   "cell_type": "code",
   "execution_count": 6,
   "metadata": {
    "execution": {
     "iopub.execute_input": "2022-09-13T13:52:02.052512Z",
     "iopub.status.busy": "2022-09-13T13:52:02.052243Z",
     "iopub.status.idle": "2022-09-13T13:52:02.654930Z",
     "shell.execute_reply": "2022-09-13T13:52:02.653971Z",
     "shell.execute_reply.started": "2022-09-13T13:52:02.052483Z"
    }
   },
   "outputs": [
    {
     "name": "stdout",
     "output_type": "stream",
     "text": [
      "gs://kds-2bd1874103d99fe39956f67874049e4f20213e5fa2476bf71e61e1e2\n"
     ]
    }
   ],
   "source": [
    "# Moving Data To Google Cloud Storage (GCS). TPUs require data to be present on GCS. The below utility copies the data to a GCS bucket co-located with the TPU.\n",
    "# Using TFrecords often requires gsbucket address. You could get the gsbucket address by using kaggle API as below:\n",
    "\n",
    "from kaggle_datasets import KaggleDatasets\n",
    "GCS_DS_PATH = KaggleDatasets().get_gcs_path('tpu-getting-started')\n",
    "print(GCS_DS_PATH)            # this is how the gsbucket address looks like OR say the path where the dataset is stored in cloud"
   ]
  },
  {
   "cell_type": "code",
   "execution_count": 7,
   "metadata": {
    "execution": {
     "iopub.execute_input": "2022-09-13T13:53:20.600836Z",
     "iopub.status.busy": "2022-09-13T13:53:20.600544Z",
     "iopub.status.idle": "2022-09-13T13:53:21.055041Z",
     "shell.execute_reply": "2022-09-13T13:53:21.053963Z",
     "shell.execute_reply.started": "2022-09-13T13:53:20.600808Z"
    }
   },
   "outputs": [
    {
     "name": "stderr",
     "output_type": "stream",
     "text": [
      "2022-09-13 13:53:20.615586: I tensorflow/core/platform/cloud/google_auth_provider.cc:180] Attempting an empty bearer token since no token was retrieved from files, and GCE metadata check was skipped.\n",
      "2022-09-13 13:53:20.769464: I tensorflow/core/platform/cloud/google_auth_provider.cc:180] Attempting an empty bearer token since no token was retrieved from files, and GCE metadata check was skipped.\n",
      "2022-09-13 13:53:20.911117: I tensorflow/core/platform/cloud/google_auth_provider.cc:180] Attempting an empty bearer token since no token was retrieved from files, and GCE metadata check was skipped.\n"
     ]
    }
   ],
   "source": [
    "IMAGE_SIZE = [224, 224]\n",
    "GCS_PATH = GCS_DS_PATH + '/tfrecords-jpeg-224x224'\n",
    "AUTO = tf.data.experimental.AUTOTUNE\n",
    "\n",
    "TRAINING_FILENAMES = tf.io.gfile.glob(GCS_PATH + '/train/*.tfrec')\n",
    "VALIDATION_FILENAMES = tf.io.gfile.glob(GCS_PATH + '/val/*.tfrec')\n",
    "TEST_FILENAMES = tf.io.gfile.glob(GCS_PATH + '/test/*.tfrec') \n",
    "\n",
    "CLASSES = ['pink primrose',    'hard-leaved pocket orchid', 'canterbury bells', 'sweet pea',     'wild geranium',     'tiger lily',           'moon orchid',              'bird of paradise', 'monkshood',        'globe thistle',         # 00 - 09\n",
    "           'snapdragon',       \"colt's foot\",               'king protea',      'spear thistle', 'yellow iris',       'globe-flower',         'purple coneflower',        'peruvian lily',    'balloon flower',   'giant white arum lily', # 10 - 19\n",
    "           'fire lily',        'pincushion flower',         'fritillary',       'red ginger',    'grape hyacinth',    'corn poppy',           'prince of wales feathers', 'stemless gentian', 'artichoke',        'sweet william',         # 20 - 29\n",
    "           'carnation',        'garden phlox',              'love in the mist', 'cosmos',        'alpine sea holly',  'ruby-lipped cattleya', 'cape flower',              'great masterwort', 'siam tulip',       'lenten rose',           # 30 - 39\n",
    "           'barberton daisy',  'daffodil',                  'sword lily',       'poinsettia',    'bolero deep blue',  'wallflower',           'marigold',                 'buttercup',        'daisy',            'common dandelion',      # 40 - 49\n",
    "           'petunia',          'wild pansy',                'primula',          'sunflower',     'lilac hibiscus',    'bishop of llandaff',   'gaura',                    'geranium',         'orange dahlia',    'pink-yellow dahlia',    # 50 - 59\n",
    "           'cautleya spicata', 'japanese anemone',          'black-eyed susan', 'silverbush',    'californian poppy', 'osteospermum',         'spring crocus',            'iris',             'windflower',       'tree poppy',            # 60 - 69\n",
    "           'gazania',          'azalea',                    'water lily',       'rose',          'thorn apple',       'morning glory',        'passion flower',           'lotus',            'toad lily',        'anthurium',             # 70 - 79\n",
    "           'frangipani',       'clematis',                  'hibiscus',         'columbine',     'desert-rose',       'tree mallow',          'magnolia',                 'cyclamen ',        'watercress',       'canna lily',            # 80 - 89\n",
    "           'hippeastrum ',     'bee balm',                  'pink quill',       'foxglove',      'bougainvillea',     'camellia',             'mallow',                   'mexican petunia',  'bromelia',         'blanket flower',        # 90 - 99\n",
    "           'trumpet creeper',  'blackberry lily',           'common tulip',     'wild rose']  "
   ]
  },
  {
   "cell_type": "code",
   "execution_count": 8,
   "metadata": {
    "execution": {
     "iopub.execute_input": "2022-09-13T13:53:52.149112Z",
     "iopub.status.busy": "2022-09-13T13:53:52.148199Z",
     "iopub.status.idle": "2022-09-13T13:53:52.159924Z",
     "shell.execute_reply": "2022-09-13T13:53:52.159172Z",
     "shell.execute_reply.started": "2022-09-13T13:53:52.149071Z"
    }
   },
   "outputs": [],
   "source": [
    "def decode_image(image_data):\n",
    "    image = tf.image.decode_jpeg(image_data, channels=3)\n",
    "    image = tf.cast(image, tf.float32) / 255.0  # convert image to floats in [0, 1] range\n",
    "    image = tf.reshape(image, [*IMAGE_SIZE, 3]) # explicit size needed for TPU\n",
    "    return image\n",
    "\n",
    "def read_labeled_tfrecord(example):\n",
    "    LABELED_TFREC_FORMAT = {\n",
    "        \"image\": tf.io.FixedLenFeature([], tf.string), # tf.string means bytestring\n",
    "        \"class\": tf.io.FixedLenFeature([], tf.int64),  # shape [] means single element\n",
    "    }\n",
    "    example = tf.io.parse_single_example(example, LABELED_TFREC_FORMAT)\n",
    "    image = decode_image(example['image'])\n",
    "    label = tf.cast(example['class'], tf.int32)\n",
    "    return image, label # returns a dataset of (image, label) pairs\n",
    "\n",
    "def read_unlabeled_tfrecord(example):\n",
    "    UNLABELED_TFREC_FORMAT = {\n",
    "        \"image\": tf.io.FixedLenFeature([], tf.string), # tf.string means bytestring\n",
    "        \"id\": tf.io.FixedLenFeature([], tf.string),  # shape [] means single element\n",
    "        # class is missing, this competitions's challenge is to predict flower classes for the test dataset\n",
    "    }\n",
    "    example = tf.io.parse_single_example(example, UNLABELED_TFREC_FORMAT)\n",
    "    image = decode_image(example['image'])\n",
    "    idnum = example['id']\n",
    "    return image, idnum # returns a dataset of image(s)\n",
    "\n",
    "def load_dataset(filenames, labeled=True, ordered=False):\n",
    "    # Read from TFRecords. For optimal performance, reading from multiple files at once and\n",
    "    # disregarding data order. Order does not matter since we will be shuffling the data anyway.\n",
    "\n",
    "    ignore_order = tf.data.Options()\n",
    "    if not ordered:\n",
    "        ignore_order.experimental_deterministic = False # disable order, increase speed\n",
    "\n",
    "    dataset = tf.data.TFRecordDataset(filenames, num_parallel_reads=AUTO) # automatically interleaves reads from multiple files\n",
    "    dataset = dataset.with_options(ignore_order) # uses data as soon as it streams in, rather than in its original order\n",
    "    dataset = dataset.map(read_labeled_tfrecord if labeled else read_unlabeled_tfrecord, num_parallel_calls=AUTO)\n",
    "    # returns a dataset of (image, label) pairs if labeled=True or (image, id) pairs if labeled=False\n",
    "    return dataset"
   ]
  },
  {
   "cell_type": "code",
   "execution_count": 11,
   "metadata": {
    "execution": {
     "iopub.execute_input": "2022-09-13T13:55:32.372548Z",
     "iopub.status.busy": "2022-09-13T13:55:32.372111Z",
     "iopub.status.idle": "2022-09-13T13:55:32.387750Z",
     "shell.execute_reply": "2022-09-13T13:55:32.386865Z",
     "shell.execute_reply.started": "2022-09-13T13:55:32.372507Z"
    }
   },
   "outputs": [
    {
     "name": "stdout",
     "output_type": "stream",
     "text": [
      "Dataset: 12753 training images, 3712 validation images, 7382 unlabeled test images\n"
     ]
    }
   ],
   "source": [
    "def data_augment(image, label):\n",
    "    # Thanks to the dataset.prefetch(AUTO)\n",
    "    # statement in the next function (below), this happens essentially\n",
    "    # for free on TPU. Data pipeline code is executed on the \"CPU\"\n",
    "    # part of the TPU while the TPU itself is computing gradients.\n",
    "    image = tf.image.random_flip_left_right(image)\n",
    "    #image = tf.image.random_saturation(image, 0, 2)\n",
    "    return image, label   \n",
    "\n",
    "def get_training_dataset():\n",
    "    dataset = load_dataset(TRAINING_FILENAMES, labeled=True)\n",
    "    dataset = dataset.map(data_augment, num_parallel_calls=AUTO)\n",
    "    dataset = dataset.repeat() # the training dataset must repeat for several epochs\n",
    "    dataset = dataset.shuffle(2048)\n",
    "    dataset = dataset.batch(BATCH_SIZE)\n",
    "    dataset = dataset.prefetch(AUTO) # prefetch next batch while training (autotune prefetch buffer size)\n",
    "    return dataset\n",
    "\n",
    "def get_validation_dataset(ordered=False):\n",
    "    dataset = load_dataset(VALIDATION_FILENAMES, labeled=True, ordered=ordered)\n",
    "    dataset = dataset.batch(BATCH_SIZE)\n",
    "    dataset = dataset.cache()\n",
    "    dataset = dataset.prefetch(AUTO)\n",
    "    return dataset\n",
    "\n",
    "def get_test_dataset(ordered=False):\n",
    "    dataset = load_dataset(TEST_FILENAMES, labeled=False, ordered=ordered)\n",
    "    dataset = dataset.batch(BATCH_SIZE)\n",
    "    dataset = dataset.prefetch(AUTO)\n",
    "    return dataset\n",
    "\n",
    "def count_data_items(filenames):\n",
    "    # the number of data items is written in the name of the .tfrec\n",
    "    # files, i.e. flowers00-230.tfrec = 230 data items\n",
    "    n = [int(re.compile(r\"-([0-9]*)\\.\").search(filename).group(1)) for filename in filenames]\n",
    "    return np.sum(n)\n",
    "\n",
    "NUM_TRAINING_IMAGES = count_data_items(TRAINING_FILENAMES)\n",
    "NUM_VALIDATION_IMAGES = count_data_items(VALIDATION_FILENAMES)\n",
    "NUM_TEST_IMAGES = count_data_items(TEST_FILENAMES)\n",
    "print('Dataset: {} training images, {} validation images, {} unlabeled test images'.format(NUM_TRAINING_IMAGES, NUM_VALIDATION_IMAGES, NUM_TEST_IMAGES))"
   ]
  },
  {
   "cell_type": "code",
   "execution_count": 12,
   "metadata": {
    "execution": {
     "iopub.execute_input": "2022-09-13T13:56:01.188019Z",
     "iopub.status.busy": "2022-09-13T13:56:01.187371Z",
     "iopub.status.idle": "2022-09-13T13:56:01.667351Z",
     "shell.execute_reply": "2022-09-13T13:56:01.666360Z",
     "shell.execute_reply.started": "2022-09-13T13:56:01.187971Z"
    }
   },
   "outputs": [
    {
     "name": "stdout",
     "output_type": "stream",
     "text": [
      "Training: <PrefetchDataset shapes: ((None, 224, 224, 3), (None,)), types: (tf.float32, tf.int32)>\n",
      "Validation: <PrefetchDataset shapes: ((None, 224, 224, 3), (None,)), types: (tf.float32, tf.int32)>\n",
      "Test: <PrefetchDataset shapes: ((None, 224, 224, 3), (None,)), types: (tf.float32, tf.string)>\n"
     ]
    }
   ],
   "source": [
    "# Define the batch size. This will be 16 with TPU off and 128 (=16*8) with TPU on\n",
    "BATCH_SIZE = 16 * strategy.num_replicas_in_sync\n",
    "\n",
    "ds_train = get_training_dataset()\n",
    "ds_valid = get_validation_dataset()\n",
    "ds_test = get_test_dataset()\n",
    "\n",
    "print(\"Training:\", ds_train)\n",
    "print (\"Validation:\", ds_valid)\n",
    "print(\"Test:\", ds_test)"
   ]
  },
  {
   "cell_type": "code",
   "execution_count": 13,
   "metadata": {
    "execution": {
     "iopub.execute_input": "2022-09-13T13:56:35.473128Z",
     "iopub.status.busy": "2022-09-13T13:56:35.472103Z",
     "iopub.status.idle": "2022-09-13T13:56:37.850016Z",
     "shell.execute_reply": "2022-09-13T13:56:37.848756Z",
     "shell.execute_reply.started": "2022-09-13T13:56:35.473071Z"
    }
   },
   "outputs": [
    {
     "name": "stdout",
     "output_type": "stream",
     "text": [
      "Training data shapes:\n",
      "(128, 224, 224, 3) (128,)\n",
      "(128, 224, 224, 3) (128,)\n",
      "(128, 224, 224, 3) (128,)\n",
      "Training data label examples: [73 67 77 ... 74 34 75]\n"
     ]
    },
    {
     "name": "stderr",
     "output_type": "stream",
     "text": [
      "2022-09-13 13:56:37.842708: W ./tensorflow/core/distributed_runtime/eager/destroy_tensor_handle_node.h:57] Ignoring an error encountered when deleting remote tensors handles: Invalid argument: Unable to find the relevant tensor remote_handle: Op ID: 61, Output num: 0\n",
      "Additional GRPC error information from remote target /job:worker/replica:0/task:0:\n",
      ":{\"created\":\"@1663077397.838112207\",\"description\":\"Error received from peer ipv4:10.0.0.2:8470\",\"file\":\"external/com_github_grpc_grpc/src/core/lib/surface/call.cc\",\"file_line\":1056,\"grpc_message\":\"Unable to find the relevant tensor remote_handle: Op ID: 61, Output num: 0\",\"grpc_status\":3}\n"
     ]
    }
   ],
   "source": [
    "np.set_printoptions(threshold=15, linewidth=80)\n",
    "\n",
    "print(\"Training data shapes:\")\n",
    "for image, label in ds_train.take(3):\n",
    "    print(image.numpy().shape, label.numpy().shape)\n",
    "print(\"Training data label examples:\", label.numpy())"
   ]
  },
  {
   "cell_type": "code",
   "execution_count": 14,
   "metadata": {
    "execution": {
     "iopub.execute_input": "2022-09-13T13:56:42.885394Z",
     "iopub.status.busy": "2022-09-13T13:56:42.884535Z",
     "iopub.status.idle": "2022-09-13T13:56:44.907716Z",
     "shell.execute_reply": "2022-09-13T13:56:44.906704Z",
     "shell.execute_reply.started": "2022-09-13T13:56:42.885340Z"
    }
   },
   "outputs": [
    {
     "name": "stdout",
     "output_type": "stream",
     "text": [
      "Test data shapes:\n",
      "(128, 224, 224, 3) (128,)\n",
      "(128, 224, 224, 3) (128,)\n",
      "(128, 224, 224, 3) (128,)\n",
      "Test data IDs: ['b87e16bc0' 'd8437a7f7' '981396649' ... '15cb0c24a' '1c3a7bc99' 'b20b97998']\n"
     ]
    }
   ],
   "source": [
    "print(\"Test data shapes:\")\n",
    "for image, idnum in ds_test.take(3):\n",
    "    print(image.numpy().shape, idnum.numpy().shape)\n",
    "print(\"Test data IDs:\", idnum.numpy().astype('U')) # U=unicode string"
   ]
  },
  {
   "cell_type": "code",
   "execution_count": 15,
   "metadata": {
    "execution": {
     "iopub.execute_input": "2022-09-13T13:57:10.235361Z",
     "iopub.status.busy": "2022-09-13T13:57:10.234703Z",
     "iopub.status.idle": "2022-09-13T13:57:48.851840Z",
     "shell.execute_reply": "2022-09-13T13:57:48.850935Z",
     "shell.execute_reply.started": "2022-09-13T13:57:10.235305Z"
    }
   },
   "outputs": [
    {
     "name": "stdout",
     "output_type": "stream",
     "text": [
      "Downloading data from https://storage.googleapis.com/tensorflow/keras-applications/densenet/densenet201_weights_tf_dim_ordering_tf_kernels_notop.h5\n",
      "74842112/74836368 [==============================] - 0s 0us/step\n"
     ]
    }
   ],
   "source": [
    "EPOCHS = 12\n",
    "\n",
    "with strategy.scope():    \n",
    "    densenet = tf.keras.applications.DenseNet201(\n",
    "        input_shape = (224, 224, 3),\n",
    "        weights = 'imagenet',  # Use the preset parameters of ImageNet\n",
    "        include_top = False  # Drop the fully connected network on the top\n",
    "    )\n",
    "    \n",
    "    densenet.trainable =True\n",
    "    model = tf.keras.Sequential([\n",
    "        densenet,\n",
    "        #tf.keras.layers.Dropout(0.2),\n",
    "        #tf.keras.layers.BatchNormalization(),\n",
    "        tf.keras.layers.GlobalAveragePooling2D(),\n",
    "        tf.keras.layers.Dense(len(CLASSES), activation = 'softmax')\n",
    "    ])\n",
    "\n",
    "    model.compile(\n",
    "        optimizer=tf.keras.optimizers.Adam(), loss = 'sparse_categorical_crossentropy', \n",
    "        metrics = ['sparse_categorical_accuracy']\n",
    "    )"
   ]
  },
  {
   "cell_type": "code",
   "execution_count": 17,
   "metadata": {
    "execution": {
     "iopub.execute_input": "2022-09-13T13:58:59.178122Z",
     "iopub.status.busy": "2022-09-13T13:58:59.177516Z",
     "iopub.status.idle": "2022-09-13T13:58:59.238809Z",
     "shell.execute_reply": "2022-09-13T13:58:59.238139Z",
     "shell.execute_reply.started": "2022-09-13T13:58:59.178082Z"
    }
   },
   "outputs": [],
   "source": [
    "from tensorflow import keras\n",
    "\n",
    "model.compile(\n",
    "    optimizer=keras.optimizers.Adam(learning_rate=0.00001),\n",
    "    loss = 'sparse_categorical_crossentropy',\n",
    "    metrics=['sparse_categorical_accuracy'],\n",
    ")"
   ]
  },
  {
   "cell_type": "code",
   "execution_count": 18,
   "metadata": {
    "execution": {
     "iopub.execute_input": "2022-09-13T13:59:28.940426Z",
     "iopub.status.busy": "2022-09-13T13:59:28.939751Z",
     "iopub.status.idle": "2022-09-13T14:10:36.129325Z",
     "shell.execute_reply": "2022-09-13T14:10:36.128564Z",
     "shell.execute_reply.started": "2022-09-13T13:59:28.940377Z"
    }
   },
   "outputs": [
    {
     "name": "stdout",
     "output_type": "stream",
     "text": [
      "Epoch 1/30\n",
      "99/99 [==============================] - 175s 360ms/step - loss: 4.6647 - sparse_categorical_accuracy: 0.0497 - val_loss: 3.6504 - val_sparse_categorical_accuracy: 0.2462\n",
      "Epoch 2/30\n",
      " 1/99 [..............................] - ETA: 14s - loss: 3.7414 - sparse_categorical_accuracy: 0.2266"
     ]
    },
    {
     "name": "stderr",
     "output_type": "stream",
     "text": [
      "2022-09-13 14:02:24.520865: W ./tensorflow/core/distributed_runtime/eager/destroy_tensor_handle_node.h:57] Ignoring an error encountered when deleting remote tensors handles: Invalid argument: Unable to find the relevant tensor remote_handle: Op ID: 85023, Output num: 1\n",
      "Additional GRPC error information from remote target /job:worker/replica:0/task:0:\n",
      ":{\"created\":\"@1663077744.520323231\",\"description\":\"Error received from peer ipv4:10.0.0.2:8470\",\"file\":\"external/com_github_grpc_grpc/src/core/lib/surface/call.cc\",\"file_line\":1056,\"grpc_message\":\"Unable to find the relevant tensor remote_handle: Op ID: 85023, Output num: 1\",\"grpc_status\":3}\n"
     ]
    },
    {
     "name": "stdout",
     "output_type": "stream",
     "text": [
      "99/99 [==============================] - 17s 169ms/step - loss: 3.3305 - sparse_categorical_accuracy: 0.3149 - val_loss: 2.5771 - val_sparse_categorical_accuracy: 0.4628\n",
      "Epoch 3/30\n",
      "99/99 [==============================] - 17s 169ms/step - loss: 2.4862 - sparse_categorical_accuracy: 0.4983 - val_loss: 1.9441 - val_sparse_categorical_accuracy: 0.5973\n",
      "Epoch 4/30\n",
      "99/99 [==============================] - 17s 171ms/step - loss: 1.9887 - sparse_categorical_accuracy: 0.6064 - val_loss: 1.5501 - val_sparse_categorical_accuracy: 0.6870\n",
      "Epoch 5/30\n",
      "99/99 [==============================] - 17s 170ms/step - loss: 1.5978 - sparse_categorical_accuracy: 0.6915 - val_loss: 1.2822 - val_sparse_categorical_accuracy: 0.7333\n",
      "Epoch 6/30\n",
      "99/99 [==============================] - 17s 169ms/step - loss: 1.3396 - sparse_categorical_accuracy: 0.7432 - val_loss: 1.0997 - val_sparse_categorical_accuracy: 0.7713\n",
      "Epoch 7/30\n",
      "99/99 [==============================] - 17s 170ms/step - loss: 1.1491 - sparse_categorical_accuracy: 0.7743 - val_loss: 0.9551 - val_sparse_categorical_accuracy: 0.7998\n",
      "Epoch 8/30\n",
      "99/99 [==============================] - 17s 171ms/step - loss: 0.9978 - sparse_categorical_accuracy: 0.8120 - val_loss: 0.8493 - val_sparse_categorical_accuracy: 0.8241\n",
      "Epoch 9/30\n",
      "99/99 [==============================] - 17s 170ms/step - loss: 0.8870 - sparse_categorical_accuracy: 0.8330 - val_loss: 0.7631 - val_sparse_categorical_accuracy: 0.8405\n",
      "Epoch 10/30\n",
      "99/99 [==============================] - 17s 171ms/step - loss: 0.7781 - sparse_categorical_accuracy: 0.8538 - val_loss: 0.6956 - val_sparse_categorical_accuracy: 0.8521\n",
      "Epoch 11/30\n",
      "99/99 [==============================] - 17s 171ms/step - loss: 0.7019 - sparse_categorical_accuracy: 0.8695 - val_loss: 0.6370 - val_sparse_categorical_accuracy: 0.8650\n",
      "Epoch 12/30\n",
      "99/99 [==============================] - 17s 171ms/step - loss: 0.6237 - sparse_categorical_accuracy: 0.8871 - val_loss: 0.5939 - val_sparse_categorical_accuracy: 0.8723\n",
      "Epoch 13/30\n",
      "99/99 [==============================] - 17s 172ms/step - loss: 0.5469 - sparse_categorical_accuracy: 0.9050 - val_loss: 0.5539 - val_sparse_categorical_accuracy: 0.8788\n",
      "Epoch 14/30\n",
      "99/99 [==============================] - 17s 171ms/step - loss: 0.5103 - sparse_categorical_accuracy: 0.9098 - val_loss: 0.5221 - val_sparse_categorical_accuracy: 0.8860\n",
      "Epoch 15/30\n",
      "99/99 [==============================] - 17s 171ms/step - loss: 0.4275 - sparse_categorical_accuracy: 0.9255 - val_loss: 0.4926 - val_sparse_categorical_accuracy: 0.8912\n",
      "Epoch 16/30\n",
      "99/99 [==============================] - 17s 171ms/step - loss: 0.3988 - sparse_categorical_accuracy: 0.9381 - val_loss: 0.4683 - val_sparse_categorical_accuracy: 0.8955\n",
      "Epoch 17/30\n",
      "99/99 [==============================] - 17s 171ms/step - loss: 0.3590 - sparse_categorical_accuracy: 0.9443 - val_loss: 0.4467 - val_sparse_categorical_accuracy: 0.9019\n",
      "Epoch 18/30\n",
      "99/99 [==============================] - 17s 172ms/step - loss: 0.3162 - sparse_categorical_accuracy: 0.9508 - val_loss: 0.4306 - val_sparse_categorical_accuracy: 0.9027\n",
      "Epoch 19/30\n",
      "99/99 [==============================] - 17s 170ms/step - loss: 0.2860 - sparse_categorical_accuracy: 0.9570 - val_loss: 0.4139 - val_sparse_categorical_accuracy: 0.9060\n",
      "Epoch 20/30\n",
      "99/99 [==============================] - 17s 171ms/step - loss: 0.2548 - sparse_categorical_accuracy: 0.9638 - val_loss: 0.4030 - val_sparse_categorical_accuracy: 0.9073\n",
      "Epoch 21/30\n",
      "99/99 [==============================] - 17s 171ms/step - loss: 0.2428 - sparse_categorical_accuracy: 0.9666 - val_loss: 0.3941 - val_sparse_categorical_accuracy: 0.9076\n",
      "Epoch 22/30\n",
      "99/99 [==============================] - 17s 170ms/step - loss: 0.2056 - sparse_categorical_accuracy: 0.9781 - val_loss: 0.3813 - val_sparse_categorical_accuracy: 0.9106\n",
      "Epoch 23/30\n",
      "99/99 [==============================] - 17s 171ms/step - loss: 0.1943 - sparse_categorical_accuracy: 0.9755 - val_loss: 0.3742 - val_sparse_categorical_accuracy: 0.9106\n",
      "Epoch 24/30\n",
      "99/99 [==============================] - 17s 171ms/step - loss: 0.1731 - sparse_categorical_accuracy: 0.9796 - val_loss: 0.3653 - val_sparse_categorical_accuracy: 0.9143\n",
      "Epoch 25/30\n",
      "99/99 [==============================] - 17s 172ms/step - loss: 0.1620 - sparse_categorical_accuracy: 0.9830 - val_loss: 0.3635 - val_sparse_categorical_accuracy: 0.9111\n",
      "Epoch 26/30\n",
      "99/99 [==============================] - 17s 170ms/step - loss: 0.1381 - sparse_categorical_accuracy: 0.9871 - val_loss: 0.3560 - val_sparse_categorical_accuracy: 0.9157\n",
      "Epoch 27/30\n",
      "99/99 [==============================] - 17s 170ms/step - loss: 0.1269 - sparse_categorical_accuracy: 0.9899 - val_loss: 0.3504 - val_sparse_categorical_accuracy: 0.9173\n",
      "Epoch 28/30\n",
      "99/99 [==============================] - 17s 171ms/step - loss: 0.1176 - sparse_categorical_accuracy: 0.9884 - val_loss: 0.3488 - val_sparse_categorical_accuracy: 0.9165\n",
      "Epoch 29/30\n",
      "99/99 [==============================] - 17s 171ms/step - loss: 0.1038 - sparse_categorical_accuracy: 0.9914 - val_loss: 0.3386 - val_sparse_categorical_accuracy: 0.9186\n",
      "Epoch 30/30\n",
      "99/99 [==============================] - 18s 182ms/step - loss: 0.0966 - sparse_categorical_accuracy: 0.9936 - val_loss: 0.3354 - val_sparse_categorical_accuracy: 0.9181\n"
     ]
    }
   ],
   "source": [
    "NUM_TRAINING_IMAGES = 12753\n",
    "NUM_TEST_IMAGES = 7382\n",
    "STEPS_PER_EPOCH = NUM_TRAINING_IMAGES // BATCH_SIZE\n",
    "\n",
    "history = model.fit(\n",
    "    ds_train,\n",
    "    validation_data=ds_valid,\n",
    "    epochs=30,steps_per_epoch=STEPS_PER_EPOCH\n",
    ")"
   ]
  },
  {
   "cell_type": "code",
   "execution_count": 20,
   "metadata": {
    "execution": {
     "iopub.execute_input": "2022-09-13T14:11:13.694243Z",
     "iopub.status.busy": "2022-09-13T14:11:13.693924Z",
     "iopub.status.idle": "2022-09-13T14:11:13.934686Z",
     "shell.execute_reply": "2022-09-13T14:11:13.933730Z",
     "shell.execute_reply.started": "2022-09-13T14:11:13.694207Z"
    }
   },
   "outputs": [
    {
     "data": {
      "image/png": "[encoded data removed]",
      "text/plain": [
       "<Figure size 576x360 with 1 Axes>"
      ]
     },
     "metadata": {
      "needs_background": "light"
     },
     "output_type": "display_data"
    }
   ],
   "source": [
    "pd.DataFrame(history.history).plot(figsize=(8,5))\n",
    "plt.show()"
   ]
  },
  {
   "cell_type": "code",
   "execution_count": 23,
   "metadata": {
    "execution": {
     "iopub.execute_input": "2022-09-13T14:18:50.309066Z",
     "iopub.status.busy": "2022-09-13T14:18:50.307872Z",
     "iopub.status.idle": "2022-09-13T14:18:50.717747Z",
     "shell.execute_reply": "2022-09-13T14:18:50.716838Z",
     "shell.execute_reply.started": "2022-09-13T14:18:50.309012Z"
    }
   },
   "outputs": [
    {
     "data": {
      "image/png": "[encoded data removed]",
      "text/plain": [
       "<Figure size 432x288 with 1 Axes>"
      ]
     },
     "metadata": {
      "needs_background": "light"
     },
     "output_type": "display_data"
    },
    {
     "data": {
      "image/png": "[encoded data removed]",
      "text/plain": [
       "<Figure size 432x288 with 1 Axes>"
      ]
     },
     "metadata": {
      "needs_background": "light"
     },
     "output_type": "display_data"
    }
   ],
   "source": [
    "plt.plot(history.history['sparse_categorical_accuracy'])\n",
    "plt.plot(history.history['val_sparse_categorical_accuracy'])\n",
    "plt.title('model accuracy')\n",
    "plt.ylabel('accuracy')\n",
    "plt.xlabel('epoch')\n",
    "plt.legend\n",
    "plt.show()\n",
    "\n",
    "\n",
    "plt.plot(history.history['loss'])\n",
    "plt.plot(history.history['val_loss'])\n",
    "plt.title('model loss')\n",
    "plt.ylabel('loss')\n",
    "plt.xlabel('epoch')\n",
    "plt.legend\n",
    "plt.show()"
   ]
  },
  {
   "cell_type": "code",
   "execution_count": null,
   "metadata": {},
   "outputs": [],
   "source": []
  },
  {
   "cell_type": "code",
   "execution_count": null,
   "metadata": {},
   "outputs": [],
   "source": []
  },
  {
   "cell_type": "code",
   "execution_count": null,
   "metadata": {},
   "outputs": [],
   "source": []
  },
  {
   "cell_type": "code",
   "execution_count": null,
   "metadata": {},
   "outputs": [],
   "source": []
  }
 ],
 "metadata": {
  "kernelspec": {
   "display_name": "Python 3 (ipykernel)",
   "language": "python",
   "name": "python3"
  },
  "language_info": {
   "codemirror_mode": {
    "name": "ipython",
    "version": 3
   },
   "file_extension": ".py",
   "mimetype": "text/x-python",
   "name": "python",
   "nbconvert_exporter": "python",
   "pygments_lexer": "ipython3",
   "version": "3.9.7"
  }
 },
 "nbformat": 4,
 "nbformat_minor": 4
}
